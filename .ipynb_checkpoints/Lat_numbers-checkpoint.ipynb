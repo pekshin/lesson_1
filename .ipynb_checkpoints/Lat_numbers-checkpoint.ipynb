{
 "cells": [
  {
   "cell_type": "markdown",
   "metadata": {},
   "source": [
    "Okay, now i'll create the dictionary with latinian - normal numbers"
   ]
  },
  {
   "cell_type": "code",
   "execution_count": 13,
   "metadata": {},
   "outputs": [
    {
     "name": "stdout",
     "output_type": "stream",
     "text": [
      "{'I': 1, 'V': 5, 'X': 10, 'L': 50, 'C': 100, 'D': 500, 'M': 1000}\n"
     ]
    }
   ],
   "source": [
    "dictionary = {\"I\" : 1, \n",
    "           \"V\" : 5,\n",
    "           \"X\" : 10,\n",
    "           \"L\" : 50,\n",
    "           \"C\" : 100,\n",
    "           \"D\" : 500,\n",
    "           \"M\" : 1000}\n",
    "print (dictionary)\n"
   ]
  },
  {
   "cell_type": "markdown",
   "metadata": {},
   "source": [
    "Let's do a function from it"
   ]
  },
  {
   "cell_type": "code",
   "execution_count": 4,
   "metadata": {},
   "outputs": [
    {
     "name": "stdout",
     "output_type": "stream",
     "text": [
      "1985\n"
     ]
    }
   ],
   "source": [
    "from numpy import sum\n",
    "def to_latinian (text):\n",
    "    sum_list = []\n",
    "    for i in range(len(text)):\n",
    "        if i < len(text)-1:\n",
    "            if dictionary.get(text[i])>=dictionary.get((text[i+1])):\n",
    "                sum_list.append(dictionary.get(text[i]))\n",
    "            else:\n",
    "                sum_list.append(-dictionary.get(text[i]))\n",
    "        else:\n",
    "            sum_list.append(dictionary.get(text[i]))\n",
    "            return (sum(sum_list))\n",
    "print (to_latinian('MCMLXXXV'))"
   ]
  },
  {
   "cell_type": "code",
   "execution_count": 5,
   "metadata": {},
   "outputs": [
    {
     "name": "stdout",
     "output_type": "stream",
     "text": [
      "297\n"
     ]
    }
   ],
   "source": [
    "print (to_latinian('CCXCVII'))"
   ]
  },
  {
   "cell_type": "code",
   "execution_count": null,
   "metadata": {},
   "outputs": [],
   "source": []
  },
  {
   "cell_type": "markdown",
   "metadata": {},
   "source": [
    "Okay, it works. The good website to check is https://kvn201.com.ua/table-of-roman-numerals-from-1-to-1000.htm"
   ]
  },
  {
   "cell_type": "code",
   "execution_count": 25,
   "metadata": {},
   "outputs": [
    {
     "name": "stdout",
     "output_type": "stream",
     "text": [
      "1\n",
      "5\n",
      "10\n",
      "50\n",
      "100\n",
      "500\n",
      "1000\n"
     ]
    }
   ],
   "source": [
    "a = 12\n",
    "ind = 0\n",
    "for i in dictionary:\n",
    "    if dictionary.get(str(i))<a:\n",
    "        ind = 1\n",
    "        min_gr = dictionary.get(str(i))\n",
    "    else:\n",
    "        if ind == 1:\n",
    "            high_gr = dictionary.get(str(i))\n",
    "        \n",
    "#     if and \n",
    "# dict.get(key)"
   ]
  },
  {
   "cell_type": "code",
   "execution_count": 20,
   "metadata": {},
   "outputs": [
    {
     "data": {
      "text/plain": [
       "2"
      ]
     },
     "execution_count": 20,
     "metadata": {},
     "output_type": "execute_result"
    }
   ],
   "source": [
    "d = {1: 2, 2: 4, 3: 9}\n",
    "d[1]"
   ]
  },
  {
   "cell_type": "code",
   "execution_count": 191,
   "metadata": {},
   "outputs": [
    {
     "name": "stdout",
     "output_type": "stream",
     "text": [
      "4\n",
      "4     False\n",
      "lborder 1 hborder 5\n",
      "main - 0    False\n",
      "4\n",
      "70     False\n",
      "lborder 50 hborder 100\n",
      "main - 1    True\n",
      "chislo 70 | difference 20 30 condition False count 1\n",
      "difference 2\n",
      "gff LXX\n",
      "7\n",
      "400     False\n",
      "lborder 100 hborder 500\n",
      "main - 2    True\n",
      "CDLXXIV\n"
     ]
    }
   ],
   "source": [
    "numbers_dictionary = []\n",
    "for i in dictionary:\n",
    "#     print(dictionary.get(i))\n",
    "    numbers_dictionary.append (dictionary.get(i))\n",
    "dictionary_reverse = {1 : \"I\", \n",
    "            5 : \"V\",\n",
    "            10 : \"X\",\n",
    "            50 : \"L\",\n",
    "            100 : \"C\",\n",
    "            500 : \"D\",\n",
    "            1000 : \"M\"}\n",
    "chislo = 474\n",
    "\n",
    "def lhborders (cifra):\n",
    "    hborder = lborder = 1000\n",
    "    for i in range (len(numbers_dictionary)-1):\n",
    "        if numbers_dictionary[i]<cifra and numbers_dictionary[i+1]>cifra:\n",
    "            lborder = numbers_dictionary[i]\n",
    "            if hborder < numbers_dictionary[i]:\n",
    "                hborder = numbers_dictionary[i]\n",
    "            else:\n",
    "                hborder = numbers_dictionary[i+1]\n",
    "    return lborder, hborder\n",
    "\n",
    "# print (lhborders(4))\n",
    "\n",
    "chislo_str = str(chislo)\n",
    "count = 0 #count of razr\n",
    "itog = \"\"\n",
    "for i in range(len(chislo_str)):\n",
    "    print (chislo_str[-i])\n",
    "    print (int(chislo_str[-i-1])*10**count, '   ', int (chislo_str[-i-1]) in numbers_dictionary)\n",
    "    if (int (chislo_str[-i-1]))*10**count in numbers_dictionary:\n",
    "        rez = dictionary_reverse.get(int (chislo_str[-i-1])*10**count)\n",
    "        print (rez)\n",
    "        itog = rez + itog\n",
    "    else:\n",
    "        lborder, hborder = lhborders (int (chislo_str[-i-1])*10**count)\n",
    "        print ('lborder', lborder, 'hborder', hborder )\n",
    "        print ('main -',count, '  ',hborder - int (chislo_str[-i-1]) > 10**count)\n",
    "        if hborder - int (chislo_str[-i-1])*10**count > 10**count:\n",
    "            difference = int((hborder -  int (chislo_str[-i-1])*10**count)/10**count)\n",
    "            print ('chislo', int(chislo_str[-i-1])*10**count, '|', 'difference', int(chislo_str[-i-1])*10**count - lborder,3*10**count, 'condition', int(difference*10**count)<int(3*10**count), 'count', count)\n",
    "            if difference*10**count<3*10**count:\n",
    "#                 itog = int (chislo_str[-i-1])*str(dictionary_reverse.get(10**count)) + itog\n",
    "                difference = int((int(chislo_str[-i-1])*10**count - lborder)/10**count)\n",
    "#                 itog = int (chislo_str[-i-1])*str(dictionary_reverse.get(10**count)) + itog will be error\n",
    "                print (str(dictionary_reverse.get(lborder)) + difference*str(dictionary_reverse.get(10**count)))\n",
    "                itog = str(dictionary_reverse.get(lborder)) + difference*str(dictionary_reverse.get(10**count)) + itog\n",
    "            else:\n",
    "                difference =  int((int (chislo_str[-i-1])*10**count - lborder)/10**count)\n",
    "                print ('difference', difference)\n",
    "                itog = str(dictionary_reverse.get(lborder)) + difference*str(dictionary_reverse.get(10**count)) + itog                \n",
    "                print ('gff',str(dictionary_reverse.get(lborder)) + difference*str(dictionary_reverse.get(10**count)))\n",
    "        else:\n",
    "            if hborder == lborder:\n",
    "                itog = int (chislo_str[-i-1]) * str(dictionary_reverse.get(hborder)) + itog\n",
    "            else:\n",
    "                itog = str(dictionary_reverse.get (10**count)) + str(dictionary_reverse.get(hborder)) + itog\n",
    "    count +=1\n",
    "    \n",
    "print (itog)\n",
    "        \n",
    "#     if chislo[-i]."
   ]
  },
  {
   "cell_type": "code",
   "execution_count": null,
   "metadata": {},
   "outputs": [],
   "source": []
  },
  {
   "cell_type": "code",
   "execution_count": 193,
   "metadata": {},
   "outputs": [
    {
     "data": {
      "text/plain": [
       "736"
      ]
     },
     "execution_count": 193,
     "metadata": {},
     "output_type": "execute_result"
    }
   ],
   "source": [
    "a = [1,2]\n",
    "# a.index(10)\n",
    "300<300\n",
    "736\n",
    "# 'CDLXXIV - 474' yep\n",
    "# ' DCCXXXVI - 736' yep\n",
    "# 'MCXXXIV - 1134' yepd\n",
    "# 'MMMCDLII - 3452 ' yepd\n",
    "# 'MMMMMDLXVIII - 5568' yepd"
   ]
  },
  {
   "cell_type": "markdown",
   "metadata": {},
   "source": [
    "OKay, it has checked with this website: https://www.kalkulaator.ee/ru/konverter-rimskix-i-arabskix-chisel"
   ]
  }
 ],
 "metadata": {
  "kernelspec": {
   "display_name": "Python 3",
   "language": "python",
   "name": "python3"
  },
  "language_info": {
   "codemirror_mode": {
    "name": "ipython",
    "version": 3
   },
   "file_extension": ".py",
   "mimetype": "text/x-python",
   "name": "python",
   "nbconvert_exporter": "python",
   "pygments_lexer": "ipython3",
   "version": "3.6.5"
  }
 },
 "nbformat": 4,
 "nbformat_minor": 2
}
