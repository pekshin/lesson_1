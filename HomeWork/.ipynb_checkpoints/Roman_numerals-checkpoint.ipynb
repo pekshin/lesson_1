{
 "cells": [
  {
   "cell_type": "markdown",
   "metadata": {},
   "source": [
    "# Roman numerals"
   ]
  },
  {
   "cell_type": "markdown",
   "metadata": {},
   "source": [
    "## I. Roman numerals to decimals\n",
    "\n",
    "Write a function which receives a Roman numeral written out as a string, and returns an integer representing the decimal form of the input number. "
   ]
  },
  {
   "cell_type": "code",
   "execution_count": 13,
   "metadata": {},
   "outputs": [],
   "source": [
    "mapping = {\"I\" : 1, \n",
    "           \"V\" : 5,\n",
    "           \"X\" : 10,\n",
    "           \"L\" : 50,\n",
    "           \"C\" : 100,\n",
    "           \"D\" : 500,\n",
    "           \"M\" : 1000}"
   ]
  },
  {
   "cell_type": "code",
   "execution_count": 14,
   "metadata": {},
   "outputs": [],
   "source": [
    "def roman_to_decimal(rom):\n",
    "    \"\"\"Convert a Roman numeral to decimal.\n",
    "    \n",
    "    Parameters\n",
    "    ----------\n",
    "    rom : str\n",
    "        A Roman numeral representing a positive integer.\n",
    "        \n",
    "    Returns\n",
    "    -------\n",
    "    dec : int\n",
    "        The result of conversion of `rom` into a decimal system.\n",
    "    \"\"\"\n",
    "    # ...\n",
    "    sum_list = []\n",
    "    for i in range(len(rom)):\n",
    "        if i < len(rom)-1:\n",
    "            if mapping.get(rom[i])>=mapping.get((rom[i+1])):\n",
    "                sum_list.append(mapping.get(rom[i]))\n",
    "            else:\n",
    "                sum_list.append(-mapping.get(rom[i]))\n",
    "        else:\n",
    "            sum_list.append(mapping.get(rom[i]))\n",
    "        dec = sum(sum_list)    \n",
    "    # ...\n",
    "    return dec"
   ]
  },
  {
   "cell_type": "markdown",
   "metadata": {},
   "source": [
    "Here are some tests for you to test your code. Your code must pass all of them. You also need to come up with several more tests (your choice)."
   ]
  },
  {
   "cell_type": "code",
   "execution_count": 15,
   "metadata": {},
   "outputs": [
    {
     "name": "stdout",
     "output_type": "stream",
     "text": [
      "True\n",
      "True\n",
      "True\n",
      "True\n",
      "True\n"
     ]
    }
   ],
   "source": [
    "test_pairs = [(\"IX\", 9), (\"XI\", 11), (\"MCCII\", 1202), (\"MMXVIII\", 2018), (\"XLIX\", 49)]\n",
    "\n",
    "for rom, dec in test_pairs:\n",
    "    converted = roman_to_decimal(rom)\n",
    "    print(converted == dec)"
   ]
  },
  {
   "cell_type": "markdown",
   "metadata": {},
   "source": [
    "Task is done"
   ]
  },
  {
   "cell_type": "markdown",
   "metadata": {},
   "source": [
    "## II. Decimal numbers to roman numerals.\n",
    "\n",
    "The maximum grade for first task (Roman to decimal) is 7 on the 10-point HSE scale. For extra credit, complete the second task: *given a decimal number, convert it to the Roman form*."
   ]
  },
  {
   "cell_type": "code",
   "execution_count": 16,
   "metadata": {},
   "outputs": [],
   "source": [
    "\n",
    "def decimal_to_roman(dec):\n",
    "    \"\"\"Convert a decimal to the Roman form.\n",
    "    \n",
    "    Parameters\n",
    "    ----------\n",
    "    dec : int\n",
    "        A positive integer number\n",
    "    \n",
    "    Returns\n",
    "    -------\n",
    "    rom : str\n",
    "        A string representation of a Roman numeral form of `dec`.\n",
    "    \"\"\"\n",
    "    numbers_dictionary = []\n",
    "    dictionary = {\"I\": 1,\n",
    "                  \"V\": 5,\n",
    "                  \"X\": 10,\n",
    "                  \"L\": 50,\n",
    "                  \"C\": 100,\n",
    "                  \"D\": 500,\n",
    "                  \"M\": 1000}\n",
    "    for i in dictionary:\n",
    "        numbers_dictionary.append(dictionary.get(i))\n",
    "    dictionary_reverse = {1: \"I\",\n",
    "                          5: \"V\",\n",
    "                          10: \"X\",\n",
    "                          50: \"L\",\n",
    "                          100: \"C\",\n",
    "                          500: \"D\",\n",
    "                          1000: \"M\"}\n",
    "    def lhborders(cifra):\n",
    "        hborder = lborder = 1000\n",
    "        for i in range(len(numbers_dictionary) - 1):\n",
    "            if numbers_dictionary[i] < cifra and numbers_dictionary[i + 1] > cifra:\n",
    "                lborder = numbers_dictionary[i]\n",
    "                if hborder < numbers_dictionary[i]:\n",
    "                    hborder = numbers_dictionary[i]\n",
    "                else:\n",
    "                    hborder = numbers_dictionary[i + 1]\n",
    "        return lborder, hborder\n",
    "\n",
    "    dec_str = str(dec)\n",
    "    count = 0  # count of razr\n",
    "    rom = \"\"\n",
    "    for i in range(len(dec_str)):\n",
    "        simvol = dec_str[-i - 1]\n",
    "        digit = 10 ** count\n",
    "        simvol_ch = int(simvol) * digit\n",
    "        if (simvol_ch) in numbers_dictionary:\n",
    "            rez = dictionary_reverse.get(simvol_ch)\n",
    "            rom = rez + rom\n",
    "        else:\n",
    "            lborder, hborder = lhborders(simvol_ch)\n",
    "            if hborder - simvol_ch > digit:\n",
    "                difference = int((hborder - simvol_ch) / digit)\n",
    "                if difference * digit < 3 * digit:\n",
    "                    difference = int((simvol_ch - lborder) / digit)\n",
    "                    rom = str(dictionary_reverse.get(lborder)) + difference * str(\n",
    "                        dictionary_reverse.get(digit)) + rom\n",
    "                else:\n",
    "                    difference = int((simvol_ch - lborder) / digit)\n",
    "                    rom = str(dictionary_reverse.get(lborder)) + difference * str(\n",
    "                        dictionary_reverse.get(digit)) + rom\n",
    "            else:\n",
    "                if hborder == lborder:\n",
    "                    rom = int(simvol_ch / digit) * str(dictionary_reverse.get(hborder)) + rom\n",
    "                else:\n",
    "                    rom = str(dictionary_reverse.get(digit)) + str(dictionary_reverse.get(hborder)) + rom\n",
    "        count += 1\n",
    "    return rom"
   ]
  },
  {
   "cell_type": "markdown",
   "metadata": {},
   "source": [
    "You need to come up with test cases to show that your conversion works as expected. \n",
    "NB: the conversion is ambiguous in some cases. Any valid conversion is accepted. "
   ]
  },
  {
   "cell_type": "code",
   "execution_count": 17,
   "metadata": {},
   "outputs": [
    {
     "name": "stdout",
     "output_type": "stream",
     "text": [
      "True\n",
      "True\n",
      "True\n",
      "True\n",
      "True\n"
     ]
    }
   ],
   "source": [
    "dec = 474\n",
    "rez = 'CDLXXIV'\n",
    "print(decimal_to_roman(dec)==rez)\n",
    "dec = 736\n",
    "rez = 'DCCXXXVI'\n",
    "print(decimal_to_roman(dec)==rez)\n",
    "dec = 1134\n",
    "rez = 'MCXXXIV'\n",
    "print(decimal_to_roman(dec)==rez)\n",
    "dec = 3452\n",
    "rez = 'MMMCDLII'\n",
    "print(decimal_to_roman(dec)==rez)\n",
    "dec = 5568\n",
    "rez = 'MMMMMDLXVIII'\n",
    "print(decimal_to_roman(dec)==rez)"
   ]
  },
  {
   "cell_type": "markdown",
   "metadata": {},
   "source": [
    "Task is done :)"
   ]
  }
 ],
 "metadata": {
  "kernelspec": {
   "display_name": "Python 3",
   "language": "python",
   "name": "python3"
  },
  "language_info": {
   "codemirror_mode": {
    "name": "ipython",
    "version": 3
   },
   "file_extension": ".py",
   "mimetype": "text/x-python",
   "name": "python",
   "nbconvert_exporter": "python",
   "pygments_lexer": "ipython3",
   "version": "3.6.5"
  }
 },
 "nbformat": 4,
 "nbformat_minor": 2
}
